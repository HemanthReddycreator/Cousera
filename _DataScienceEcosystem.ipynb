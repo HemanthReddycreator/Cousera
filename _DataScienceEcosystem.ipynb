{
 "cells": [
  {
   "cell_type": "markdown",
   "id": "e448dd81",
   "metadata": {},
   "source": [
    "# Data Science Tools and Ecosystem"
   ]
  },
  {
   "cell_type": "markdown",
   "id": "b866a153",
   "metadata": {},
   "source": [
    "In this notebook, Data Science Tools and Ecosystem are summarized.."
   ]
  },
  {
   "cell_type": "markdown",
   "id": "2a4503c2",
   "metadata": {},
   "source": [
    "<h4>Some of the popular languages that Data Scientists use are:</h4>\n",
    "<ol>\n",
    "    <li>Scala</li>\n",
    "    <li>R programming</li>\n",
    "    <li>Julia</li>\n",
    "    <li>Perl</li>\n",
    " </ol>"
   ]
  },
  {
   "cell_type": "markdown",
   "id": "7fd24aba",
   "metadata": {},
   "source": [
    "<h4>Some of the commonly used libraries used by Data Scientists include:</h4>\n",
    "<ol>\n",
    "    <li>Numpy</li>\n",
    "    <li>Pandas</li>\n",
    "    <li>Matploltlib</li>\n",
    "    <li>Keras</li>\n",
    "    <li>Tenserflow</li>\n",
    "    <li>Seaborn</li>\n",
    "</ol>"
   ]
  },
  {
   "cell_type": "markdown",
   "id": "d7cafdbd",
   "metadata": {},
   "source": [
    "<h4>DataScience tools</h4>\n",
    "<table>\n",
    "    <th>\n",
    "    <td>Data Science Tools</td>\n",
    "    </th>\n",
    "    <tr>\n",
    "    <td>Anaconda</td>\n",
    "    </tr>\n",
    "    <tr>\n",
    "    <td>Jupyter Notebooks</td>\n",
    "    </tr>\n",
    "    <tr>\n",
    "    <td>Visual studio code</td>\n",
    "    </tr>\n",
    " </table>"
   ]
  },
  {
   "cell_type": "markdown",
   "id": "d32e45a6",
   "metadata": {},
   "source": [
    "<h3>Below are a few examples of evaluating arithmetic expressions in Python</h3>\n",
    "\n",
    "    10+20+30*10 =330\n",
    "\n"
   ]
  },
  {
   "cell_type": "code",
   "execution_count": 4,
   "id": "990b27e2",
   "metadata": {},
   "outputs": [
    {
     "data": {
      "text/plain": [
       "17"
      ]
     },
     "execution_count": 4,
     "metadata": {},
     "output_type": "execute_result"
    }
   ],
   "source": [
    "# This a simple arithmetic expression to mutiply then add integers\n",
    "(3*4)+5"
   ]
  },
  {
   "cell_type": "code",
   "execution_count": 6,
   "id": "ffd9e284",
   "metadata": {},
   "outputs": [
    {
     "name": "stdout",
     "output_type": "stream",
     "text": [
      "3:20 hours\n"
     ]
    }
   ],
   "source": [
    "total_minutes = 200\n",
    "\n",
    "hours = total_minutes // 60\n",
    "\n",
    "minutes = total_minutes % 60\n",
    "\n",
    "\n",
    "time = \"{}:{}\".format(hours, minutes)\n",
    "\n",
    "print(time,\"hours\")"
   ]
  },
  {
   "cell_type": "markdown",
   "id": "e3320c26",
   "metadata": {},
   "source": [
    "<b>Objectives:</b>\n",
    "<ul>\n",
    "    <li>List of popular languages used in the data science are R,Python,scala,Julia,Perl etc..</li>\n",
    "    <li>List of popular libraries used in the data science are Numpy,Pandas,Keras,Tenserflow,Scikit-learn,Matplotlib,etc..</li>\n",
    "    <li>Data science is an interdisciplinary academic field [1] that uses statistics, scientific computing, scientific methods,        processes, algorithms and systems to extract or extrapolate knowledge and insights from noisy, structured, and    unstructured data</li>\n",
    "  </ul>"
   ]
  },
  {
   "cell_type": "markdown",
   "id": "6a5b5811",
   "metadata": {},
   "source": [
    "<h2>Author</h2>\n",
    "G.Hemanth Reddy"
   ]
  },
  {
   "cell_type": "code",
   "execution_count": null,
   "id": "ee6426b6",
   "metadata": {},
   "outputs": [],
   "source": []
  }
 ],
 "metadata": {
  "kernelspec": {
   "display_name": "Python 3 (ipykernel)",
   "language": "python",
   "name": "python3"
  },
  "language_info": {
   "codemirror_mode": {
    "name": "ipython",
    "version": 3
   },
   "file_extension": ".py",
   "mimetype": "text/x-python",
   "name": "python",
   "nbconvert_exporter": "python",
   "pygments_lexer": "ipython3",
   "version": "3.9.13"
  }
 },
 "nbformat": 4,
 "nbformat_minor": 5
}
